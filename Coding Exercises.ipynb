{
 "cells": [
  {
   "cell_type": "markdown",
   "id": "f9d3646e",
   "metadata": {},
   "source": [
    "# 1 \n",
    "\n",
    "In the unsupervised analysis section, I have employed the K-means clustering technique to partition the dataset into four distinct clusters. The determination of the optimal K value (in this case, K=4) was accomplished through a comprehensive evaluation, leveraging both the elbow method and the Silhouette score as key assessment criteria."
   ]
  },
  {
   "cell_type": "code",
   "execution_count": 1,
   "id": "aa497336",
   "metadata": {},
   "outputs": [],
   "source": [
    "import warnings\n",
    "warnings.filterwarnings(\"ignore\")"
   ]
  },
  {
   "cell_type": "code",
   "execution_count": 2,
   "id": "0fe108f6",
   "metadata": {},
   "outputs": [
    {
     "data": {
      "text/plain": [
       "'1.1.3'"
      ]
     },
     "execution_count": 2,
     "metadata": {},
     "output_type": "execute_result"
    }
   ],
   "source": [
    "import sklearn\n",
    "sklearn.__version__"
   ]
  },
  {
   "cell_type": "code",
   "execution_count": 3,
   "id": "220644bd",
   "metadata": {},
   "outputs": [],
   "source": [
    "'1.0.2'\n",
    "from sklearn.model_selection import train_test_split\n",
    "from sklearn import metrics\n",
    "\n",
    "import matplotlib.pyplot as plt\n",
    "import pandas as pd\n",
    "import numpy as np\n",
    "import seaborn as sns\n",
    "import pylab as pl"
   ]
  },
  {
   "cell_type": "code",
   "execution_count": 4,
   "id": "ee3883ba",
   "metadata": {},
   "outputs": [],
   "source": [
    "df = pd.read_csv('dataClustering.csv',header= None)"
   ]
  },
  {
   "cell_type": "code",
   "execution_count": 5,
   "id": "0a90d402",
   "metadata": {},
   "outputs": [
    {
     "data": {
      "text/html": [
       "<div>\n",
       "<style scoped>\n",
       "    .dataframe tbody tr th:only-of-type {\n",
       "        vertical-align: middle;\n",
       "    }\n",
       "\n",
       "    .dataframe tbody tr th {\n",
       "        vertical-align: top;\n",
       "    }\n",
       "\n",
       "    .dataframe thead th {\n",
       "        text-align: right;\n",
       "    }\n",
       "</style>\n",
       "<table border=\"1\" class=\"dataframe\">\n",
       "  <thead>\n",
       "    <tr style=\"text-align: right;\">\n",
       "      <th></th>\n",
       "      <th>0</th>\n",
       "      <th>1</th>\n",
       "      <th>2</th>\n",
       "      <th>3</th>\n",
       "      <th>4</th>\n",
       "      <th>5</th>\n",
       "      <th>6</th>\n",
       "      <th>7</th>\n",
       "    </tr>\n",
       "  </thead>\n",
       "  <tbody>\n",
       "    <tr>\n",
       "      <th>0</th>\n",
       "      <td>5.640720</td>\n",
       "      <td>9.180183</td>\n",
       "      <td>10.288661</td>\n",
       "      <td>7.621833</td>\n",
       "      <td>5.129126</td>\n",
       "      <td>-10.199154</td>\n",
       "      <td>0.366043</td>\n",
       "      <td>9.132704</td>\n",
       "    </tr>\n",
       "    <tr>\n",
       "      <th>1</th>\n",
       "      <td>7.962137</td>\n",
       "      <td>4.390779</td>\n",
       "      <td>6.513514</td>\n",
       "      <td>5.391677</td>\n",
       "      <td>7.692616</td>\n",
       "      <td>-7.506085</td>\n",
       "      <td>-0.565842</td>\n",
       "      <td>10.024006</td>\n",
       "    </tr>\n",
       "    <tr>\n",
       "      <th>2</th>\n",
       "      <td>-0.299819</td>\n",
       "      <td>-3.566931</td>\n",
       "      <td>-5.836508</td>\n",
       "      <td>-4.744202</td>\n",
       "      <td>-1.569449</td>\n",
       "      <td>-4.212983</td>\n",
       "      <td>6.049983</td>\n",
       "      <td>-10.130941</td>\n",
       "    </tr>\n",
       "    <tr>\n",
       "      <th>3</th>\n",
       "      <td>3.744348</td>\n",
       "      <td>5.615159</td>\n",
       "      <td>8.551187</td>\n",
       "      <td>5.847903</td>\n",
       "      <td>4.274492</td>\n",
       "      <td>-7.364897</td>\n",
       "      <td>-2.982627</td>\n",
       "      <td>9.771248</td>\n",
       "    </tr>\n",
       "    <tr>\n",
       "      <th>4</th>\n",
       "      <td>1.013368</td>\n",
       "      <td>5.062748</td>\n",
       "      <td>0.445446</td>\n",
       "      <td>0.893973</td>\n",
       "      <td>-9.631507</td>\n",
       "      <td>-10.597874</td>\n",
       "      <td>9.043212</td>\n",
       "      <td>-5.625417</td>\n",
       "    </tr>\n",
       "  </tbody>\n",
       "</table>\n",
       "</div>"
      ],
      "text/plain": [
       "          0         1          2         3         4          5         6   \n",
       "0  5.640720  9.180183  10.288661  7.621833  5.129126 -10.199154  0.366043  \\\n",
       "1  7.962137  4.390779   6.513514  5.391677  7.692616  -7.506085 -0.565842   \n",
       "2 -0.299819 -3.566931  -5.836508 -4.744202 -1.569449  -4.212983  6.049983   \n",
       "3  3.744348  5.615159   8.551187  5.847903  4.274492  -7.364897 -2.982627   \n",
       "4  1.013368  5.062748   0.445446  0.893973 -9.631507 -10.597874  9.043212   \n",
       "\n",
       "           7  \n",
       "0   9.132704  \n",
       "1  10.024006  \n",
       "2 -10.130941  \n",
       "3   9.771248  \n",
       "4  -5.625417  "
      ]
     },
     "execution_count": 5,
     "metadata": {},
     "output_type": "execute_result"
    }
   ],
   "source": [
    "df.head()"
   ]
  },
  {
   "cell_type": "markdown",
   "id": "2be7f086",
   "metadata": {},
   "source": [
    "- ### Is there any missing data?"
   ]
  },
  {
   "cell_type": "code",
   "execution_count": 6,
   "id": "6f3bc284",
   "metadata": {},
   "outputs": [
    {
     "data": {
      "text/plain": [
       "0    0\n",
       "1    0\n",
       "2    0\n",
       "3    0\n",
       "4    0\n",
       "5    0\n",
       "6    0\n",
       "7    0\n",
       "dtype: int64"
      ]
     },
     "execution_count": 6,
     "metadata": {},
     "output_type": "execute_result"
    }
   ],
   "source": [
    "df.isna().sum()"
   ]
  },
  {
   "cell_type": "code",
   "execution_count": 7,
   "id": "0ef1b656",
   "metadata": {},
   "outputs": [
    {
     "name": "stdout",
     "output_type": "stream",
     "text": [
      "<class 'pandas.core.frame.DataFrame'>\n",
      "RangeIndex: 2500 entries, 0 to 2499\n",
      "Data columns (total 8 columns):\n",
      " #   Column  Non-Null Count  Dtype  \n",
      "---  ------  --------------  -----  \n",
      " 0   0       2500 non-null   float64\n",
      " 1   1       2500 non-null   float64\n",
      " 2   2       2500 non-null   float64\n",
      " 3   3       2500 non-null   float64\n",
      " 4   4       2500 non-null   float64\n",
      " 5   5       2500 non-null   float64\n",
      " 6   6       2500 non-null   float64\n",
      " 7   7       2500 non-null   float64\n",
      "dtypes: float64(8)\n",
      "memory usage: 156.4 KB\n"
     ]
    }
   ],
   "source": [
    "df.info()"
   ]
  },
  {
   "cell_type": "code",
   "execution_count": 8,
   "id": "bbf3de63",
   "metadata": {},
   "outputs": [
    {
     "data": {
      "text/html": [
       "<div>\n",
       "<style scoped>\n",
       "    .dataframe tbody tr th:only-of-type {\n",
       "        vertical-align: middle;\n",
       "    }\n",
       "\n",
       "    .dataframe tbody tr th {\n",
       "        vertical-align: top;\n",
       "    }\n",
       "\n",
       "    .dataframe thead th {\n",
       "        text-align: right;\n",
       "    }\n",
       "</style>\n",
       "<table border=\"1\" class=\"dataframe\">\n",
       "  <thead>\n",
       "    <tr style=\"text-align: right;\">\n",
       "      <th></th>\n",
       "      <th>0</th>\n",
       "      <th>1</th>\n",
       "      <th>2</th>\n",
       "      <th>3</th>\n",
       "      <th>4</th>\n",
       "      <th>5</th>\n",
       "      <th>6</th>\n",
       "      <th>7</th>\n",
       "    </tr>\n",
       "  </thead>\n",
       "  <tbody>\n",
       "    <tr>\n",
       "      <th>count</th>\n",
       "      <td>2500.000000</td>\n",
       "      <td>2500.000000</td>\n",
       "      <td>2500.000000</td>\n",
       "      <td>2500.000000</td>\n",
       "      <td>2500.000000</td>\n",
       "      <td>2500.000000</td>\n",
       "      <td>2500.000000</td>\n",
       "      <td>2500.000000</td>\n",
       "    </tr>\n",
       "    <tr>\n",
       "      <th>mean</th>\n",
       "      <td>1.315873</td>\n",
       "      <td>0.232581</td>\n",
       "      <td>0.896288</td>\n",
       "      <td>0.087122</td>\n",
       "      <td>1.090401</td>\n",
       "      <td>-3.339787</td>\n",
       "      <td>2.240464</td>\n",
       "      <td>-0.108443</td>\n",
       "    </tr>\n",
       "    <tr>\n",
       "      <th>std</th>\n",
       "      <td>3.954106</td>\n",
       "      <td>5.228858</td>\n",
       "      <td>5.077481</td>\n",
       "      <td>4.727901</td>\n",
       "      <td>6.889142</td>\n",
       "      <td>7.209843</td>\n",
       "      <td>3.865706</td>\n",
       "      <td>7.133844</td>\n",
       "    </tr>\n",
       "    <tr>\n",
       "      <th>min</th>\n",
       "      <td>-8.698889</td>\n",
       "      <td>-11.193478</td>\n",
       "      <td>-9.457285</td>\n",
       "      <td>-9.339854</td>\n",
       "      <td>-15.230702</td>\n",
       "      <td>-13.945810</td>\n",
       "      <td>-6.936272</td>\n",
       "      <td>-12.505452</td>\n",
       "    </tr>\n",
       "    <tr>\n",
       "      <th>25%</th>\n",
       "      <td>-1.775723</td>\n",
       "      <td>-4.483005</td>\n",
       "      <td>-3.245982</td>\n",
       "      <td>-3.951103</td>\n",
       "      <td>-4.619885</td>\n",
       "      <td>-9.002019</td>\n",
       "      <td>-1.203084</td>\n",
       "      <td>-6.707006</td>\n",
       "    </tr>\n",
       "    <tr>\n",
       "      <th>50%</th>\n",
       "      <td>1.507305</td>\n",
       "      <td>0.952378</td>\n",
       "      <td>0.434354</td>\n",
       "      <td>-0.826818</td>\n",
       "      <td>2.323784</td>\n",
       "      <td>-6.065858</td>\n",
       "      <td>2.549141</td>\n",
       "      <td>-0.665478</td>\n",
       "    </tr>\n",
       "    <tr>\n",
       "      <th>75%</th>\n",
       "      <td>4.368305</td>\n",
       "      <td>5.041142</td>\n",
       "      <td>4.801078</td>\n",
       "      <td>4.173922</td>\n",
       "      <td>7.094056</td>\n",
       "      <td>1.304818</td>\n",
       "      <td>5.690469</td>\n",
       "      <td>6.581960</td>\n",
       "    </tr>\n",
       "    <tr>\n",
       "      <th>max</th>\n",
       "      <td>10.944158</td>\n",
       "      <td>9.781216</td>\n",
       "      <td>12.767959</td>\n",
       "      <td>12.210710</td>\n",
       "      <td>14.405188</td>\n",
       "      <td>13.798018</td>\n",
       "      <td>11.805946</td>\n",
       "      <td>13.952436</td>\n",
       "    </tr>\n",
       "  </tbody>\n",
       "</table>\n",
       "</div>"
      ],
      "text/plain": [
       "                 0            1            2            3            4   \n",
       "count  2500.000000  2500.000000  2500.000000  2500.000000  2500.000000  \\\n",
       "mean      1.315873     0.232581     0.896288     0.087122     1.090401   \n",
       "std       3.954106     5.228858     5.077481     4.727901     6.889142   \n",
       "min      -8.698889   -11.193478    -9.457285    -9.339854   -15.230702   \n",
       "25%      -1.775723    -4.483005    -3.245982    -3.951103    -4.619885   \n",
       "50%       1.507305     0.952378     0.434354    -0.826818     2.323784   \n",
       "75%       4.368305     5.041142     4.801078     4.173922     7.094056   \n",
       "max      10.944158     9.781216    12.767959    12.210710    14.405188   \n",
       "\n",
       "                 5            6            7  \n",
       "count  2500.000000  2500.000000  2500.000000  \n",
       "mean     -3.339787     2.240464    -0.108443  \n",
       "std       7.209843     3.865706     7.133844  \n",
       "min     -13.945810    -6.936272   -12.505452  \n",
       "25%      -9.002019    -1.203084    -6.707006  \n",
       "50%      -6.065858     2.549141    -0.665478  \n",
       "75%       1.304818     5.690469     6.581960  \n",
       "max      13.798018    11.805946    13.952436  "
      ]
     },
     "execution_count": 8,
     "metadata": {},
     "output_type": "execute_result"
    }
   ],
   "source": [
    "df.describe()"
   ]
  },
  {
   "cell_type": "code",
   "execution_count": 9,
   "id": "9fd10f77",
   "metadata": {},
   "outputs": [
    {
     "data": {
      "image/png": "[encoded data removed]",
      "text/plain": [
       "<Figure size 1152x720 with 2 Axes>"
      ]
     },
     "metadata": {
      "needs_background": "light"
     },
     "output_type": "display_data"
    }
   ],
   "source": [
    "plt.figure(figsize=(16, 10))\n",
    "# define the mask to set the values in the upper triangle to True\n",
    "mask = np.triu(np.ones_like(df.corr(), dtype=np.bool))\n",
    "heatmap = sns.heatmap(df.corr(), mask=mask, vmin=-1, vmax=1, annot=True, cmap='BrBG')\n",
    "heatmap.set_title('Variables Correlation Heatmap', fontdict={'fontsize':18}, pad=16);"
   ]
  },
  {
   "cell_type": "markdown",
   "id": "6d8d6d7c",
   "metadata": {},
   "source": [
    "- ### Prepare data for machine learning"
   ]
  },
  {
   "cell_type": "code",
   "execution_count": 10,
   "id": "25bbb253",
   "metadata": {},
   "outputs": [],
   "source": [
    "from sklearn import preprocessing\n",
    "#df_copy= df.copy()"
   ]
  },
  {
   "cell_type": "code",
   "execution_count": 11,
   "id": "647889cc",
   "metadata": {},
   "outputs": [],
   "source": [
    "#scaler=preprocessing.MinMaxScaler()\n",
    "#df_copy=scaler.fit_transform(df_copy)"
   ]
  },
  {
   "cell_type": "markdown",
   "id": "76698b75",
   "metadata": {},
   "source": [
    "- ### K-means Clustering"
   ]
  },
  {
   "cell_type": "code",
   "execution_count": 12,
   "id": "ee96f14c",
   "metadata": {},
   "outputs": [],
   "source": [
    "import matplotlib.pyplot as plt\n",
    "from sklearn.cluster import KMeans\n",
    "from sklearn.metrics import silhouette_score\n",
    "\n",
    "def find_best_k(data,start,end):\n",
    "    \"\"\"This funtion finds the best K for Kmeans Clustering Using Elbow method and silhouette_score\"\"\"\n",
    "    \n",
    "    Sum_of_squared_distances = []\n",
    "    silhouette_scores = []\n",
    "    \n",
    "    k_range = range(start, end)\n",
    "\n",
    "    for k in k_range:\n",
    "        km = KMeans(n_clusters=k, init='k-means++', n_init=14, max_iter=500, random_state=0)\n",
    "        km.fit(data)\n",
    "        \n",
    "        Sum_of_squared_distances.append(km.inertia_)\n",
    "        silhouette_avg = silhouette_score(data, km.labels_).mean()\n",
    "        silhouette_scores.append(silhouette_avg)\n",
    "        \n",
    "    # Find the index of the largest silhouette score\n",
    "    max_silhouette_idx = silhouette_scores.index(max(silhouette_scores))\n",
    "    best_k = k_range[max_silhouette_idx]\n",
    "    \n",
    "    # Print the largest silhouette score and the corresponding K value\n",
    "    print(f\"Largest Silhouette Score: {max(silhouette_scores):.4f} (K = {best_k})\")\n",
    "    \n",
    "    # Plot the Sum of Squared Distances (Elbow Method) and Silhouette Score\n",
    "    plt.figure(figsize=(12, 6))\n",
    "    \n",
    "    plt.subplot(1, 2, 1)\n",
    "    plt.plot(k_range, Sum_of_squared_distances, marker='o')\n",
    "    plt.xlabel('Number of Clusters (K)')\n",
    "    plt.ylabel('Sum of Squared Distances')\n",
    "    plt.title('Elbow Method')\n",
    "    plt.grid()\n",
    "    \n",
    "    plt.subplot(1, 2, 2)\n",
    "    plt.plot(k_range, silhouette_scores, marker='o')\n",
    "    plt.xlabel('Number of Clusters (K)')\n",
    "    plt.ylabel('Silhouette Score')\n",
    "    plt.title('Silhouette Score')\n",
    "    plt.grid()\n",
    "    \n",
    "    plt.tight_layout()\n",
    "    plt.show()\n",
    "\n",
    "# Call the function with your DataFrame\n",
    "# find_best_k(data)\n"
   ]
  },
  {
   "cell_type": "code",
   "execution_count": 13,
   "id": "e0f75dc0",
   "metadata": {},
   "outputs": [],
   "source": [
    "def cluster_sizes(input_data,clusters):\n",
    "    #clusters is an array of cluster labels for each instance in the data\n",
    "    \n",
    "    size = {}\n",
    "    cluster_labels = np.unique(clusters)\n",
    "    n_clusters = cluster_labels.shape[0]\n",
    "\n",
    "    for c in cluster_labels:\n",
    "        size[c] = len(input_data[clusters == c])\n",
    "    return size"
   ]
  },
  {
   "cell_type": "code",
   "execution_count": 14,
   "id": "7bb6a31b",
   "metadata": {},
   "outputs": [
    {
     "name": "stdout",
     "output_type": "stream",
     "text": [
      "Largest Silhouette Score: 0.6978 (K = 4)\n"
     ]
    },
    {
     "data": {
      "image/png": "[encoded data removed]",
      "text/plain": [
       "<Figure size 864x432 with 2 Axes>"
      ]
     },
     "metadata": {
      "needs_background": "light"
     },
     "output_type": "display_data"
    }
   ],
   "source": [
    "data= df\n",
    "find_best_k(data,2,20)"
   ]
  },
  {
   "cell_type": "markdown",
   "id": "676cbcd2",
   "metadata": {},
   "source": [
    "- ### Run Kmean for K = 4 "
   ]
  },
  {
   "cell_type": "code",
   "execution_count": 15,
   "id": "17a41a23",
   "metadata": {},
   "outputs": [],
   "source": [
    "kmeans = KMeans(n_clusters=4, max_iter=500, verbose=1,n_init=5) # initialization"
   ]
  },
  {
   "cell_type": "code",
   "execution_count": 16,
   "id": "dab20b1a",
   "metadata": {
    "scrolled": true
   },
   "outputs": [
    {
     "name": "stdout",
     "output_type": "stream",
     "text": [
      "Initialization complete\n",
      "Iteration 0, inertia 85786.83383537404.\n",
      "Iteration 1, inertia 44687.686168716304.\n",
      "Converged at iteration 1: strict convergence.\n",
      "Initialization complete\n",
      "Iteration 0, inertia 85112.22192535657.\n",
      "Iteration 1, inertia 44687.686168716304.\n",
      "Converged at iteration 1: strict convergence.\n",
      "Initialization complete\n",
      "Iteration 0, inertia 82362.0072639189.\n",
      "Iteration 1, inertia 44687.68616871631.\n",
      "Converged at iteration 1: strict convergence.\n",
      "Initialization complete\n",
      "Iteration 0, inertia 78871.52036459159.\n",
      "Iteration 1, inertia 44687.686168716304.\n",
      "Converged at iteration 1: strict convergence.\n",
      "Initialization complete\n",
      "Iteration 0, inertia 83193.17250570624.\n",
      "Iteration 1, inertia 44687.686168716304.\n",
      "Converged at iteration 1: strict convergence.\n"
     ]
    },
    {
     "data": {
      "text/html": [
       "<style>#sk-container-id-1 {color: black;background-color: white;}#sk-container-id-1 pre{padding: 0;}#sk-container-id-1 div.sk-toggleable {background-color: white;}#sk-container-id-1 label.sk-toggleable__label {cursor: pointer;display: block;width: 100%;margin-bottom: 0;padding: 0.3em;box-sizing: border-box;text-align: center;}#sk-container-id-1 label.sk-toggleable__label-arrow:before {content: \"▸\";float: left;margin-right: 0.25em;color: #696969;}#sk-container-id-1 label.sk-toggleable__label-arrow:hover:before {color: black;}#sk-container-id-1 div.sk-estimator:hover label.sk-toggleable__label-arrow:before {color: black;}#sk-container-id-1 div.sk-toggleable__content {max-height: 0;max-width: 0;overflow: hidden;text-align: left;background-color: #f0f8ff;}#sk-container-id-1 div.sk-toggleable__content pre {margin: 0.2em;color: black;border-radius: 0.25em;background-color: #f0f8ff;}#sk-container-id-1 input.sk-toggleable__control:checked~div.sk-toggleable__content {max-height: 200px;max-width: 100%;overflow: auto;}#sk-container-id-1 input.sk-toggleable__control:checked~label.sk-toggleable__label-arrow:before {content: \"▾\";}#sk-container-id-1 div.sk-estimator input.sk-toggleable__control:checked~label.sk-toggleable__label {background-color: #d4ebff;}#sk-container-id-1 div.sk-label input.sk-toggleable__control:checked~label.sk-toggleable__label {background-color: #d4ebff;}#sk-container-id-1 input.sk-hidden--visually {border: 0;clip: rect(1px 1px 1px 1px);clip: rect(1px, 1px, 1px, 1px);height: 1px;margin: -1px;overflow: hidden;padding: 0;position: absolute;width: 1px;}#sk-container-id-1 div.sk-estimator {font-family: monospace;background-color: #f0f8ff;border: 1px dotted black;border-radius: 0.25em;box-sizing: border-box;margin-bottom: 0.5em;}#sk-container-id-1 div.sk-estimator:hover {background-color: #d4ebff;}#sk-container-id-1 div.sk-parallel-item::after {content: \"\";width: 100%;border-bottom: 1px solid gray;flex-grow: 1;}#sk-container-id-1 div.sk-label:hover label.sk-toggleable__label {background-color: #d4ebff;}#sk-container-id-1 div.sk-serial::before {content: \"\";position: absolute;border-left: 1px solid gray;box-sizing: border-box;top: 0;bottom: 0;left: 50%;z-index: 0;}#sk-container-id-1 div.sk-serial {display: flex;flex-direction: column;align-items: center;background-color: white;padding-right: 0.2em;padding-left: 0.2em;position: relative;}#sk-container-id-1 div.sk-item {position: relative;z-index: 1;}#sk-container-id-1 div.sk-parallel {display: flex;align-items: stretch;justify-content: center;background-color: white;position: relative;}#sk-container-id-1 div.sk-item::before, #sk-container-id-1 div.sk-parallel-item::before {content: \"\";position: absolute;border-left: 1px solid gray;box-sizing: border-box;top: 0;bottom: 0;left: 50%;z-index: -1;}#sk-container-id-1 div.sk-parallel-item {display: flex;flex-direction: column;z-index: 1;position: relative;background-color: white;}#sk-container-id-1 div.sk-parallel-item:first-child::after {align-self: flex-end;width: 50%;}#sk-container-id-1 div.sk-parallel-item:last-child::after {align-self: flex-start;width: 50%;}#sk-container-id-1 div.sk-parallel-item:only-child::after {width: 0;}#sk-container-id-1 div.sk-dashed-wrapped {border: 1px dashed gray;margin: 0 0.4em 0.5em 0.4em;box-sizing: border-box;padding-bottom: 0.4em;background-color: white;}#sk-container-id-1 div.sk-label label {font-family: monospace;font-weight: bold;display: inline-block;line-height: 1.2em;}#sk-container-id-1 div.sk-label-container {text-align: center;}#sk-container-id-1 div.sk-container {/* jupyter's `normalize.less` sets `[hidden] { display: none; }` but bootstrap.min.css set `[hidden] { display: none !important; }` so we also need the `!important` here to be able to override the default hidden behavior on the sphinx rendered scikit-learn.org. See: https://github.com/scikit-learn/scikit-learn/issues/21755 */display: inline-block !important;position: relative;}#sk-container-id-1 div.sk-text-repr-fallback {display: none;}</style><div id=\"sk-container-id-1\" class=\"sk-top-container\"><div class=\"sk-text-repr-fallback\"><pre>KMeans(max_iter=500, n_clusters=4, n_init=5, verbose=1)</pre><b>In a Jupyter environment, please rerun this cell to show the HTML representation or trust the notebook. <br />On GitHub, the HTML representation is unable to render, please try loading this page with nbviewer.org.</b></div><div class=\"sk-container\" hidden><div class=\"sk-item\"><div class=\"sk-estimator sk-toggleable\"><input class=\"sk-toggleable__control sk-hidden--visually\" id=\"sk-estimator-id-1\" type=\"checkbox\" checked><label for=\"sk-estimator-id-1\" class=\"sk-toggleable__label sk-toggleable__label-arrow\">KMeans</label><div class=\"sk-toggleable__content\"><pre>KMeans(max_iter=500, n_clusters=4, n_init=5, verbose=1)</pre></div></div></div></div></div>"
      ],
      "text/plain": [
       "KMeans(max_iter=500, n_clusters=4, n_init=5, verbose=1)"
      ]
     },
     "execution_count": 16,
     "metadata": {},
     "output_type": "execute_result"
    }
   ],
   "source": [
    "kmeans.fit(data)"
   ]
  },
  {
   "cell_type": "code",
   "execution_count": 17,
   "id": "cda38303",
   "metadata": {},
   "outputs": [],
   "source": [
    "clusters = kmeans.predict(data)"
   ]
  },
  {
   "cell_type": "code",
   "execution_count": 18,
   "id": "a6522a05",
   "metadata": {},
   "outputs": [
    {
     "data": {
      "text/html": [
       "<div>\n",
       "<style scoped>\n",
       "    .dataframe tbody tr th:only-of-type {\n",
       "        vertical-align: middle;\n",
       "    }\n",
       "\n",
       "    .dataframe tbody tr th {\n",
       "        vertical-align: top;\n",
       "    }\n",
       "\n",
       "    .dataframe thead th {\n",
       "        text-align: right;\n",
       "    }\n",
       "</style>\n",
       "<table border=\"1\" class=\"dataframe\">\n",
       "  <thead>\n",
       "    <tr style=\"text-align: right;\">\n",
       "      <th></th>\n",
       "      <th>Cluster</th>\n",
       "    </tr>\n",
       "  </thead>\n",
       "  <tbody>\n",
       "    <tr>\n",
       "      <th>0</th>\n",
       "      <td>1</td>\n",
       "    </tr>\n",
       "    <tr>\n",
       "      <th>1</th>\n",
       "      <td>1</td>\n",
       "    </tr>\n",
       "    <tr>\n",
       "      <th>2</th>\n",
       "      <td>0</td>\n",
       "    </tr>\n",
       "    <tr>\n",
       "      <th>3</th>\n",
       "      <td>1</td>\n",
       "    </tr>\n",
       "    <tr>\n",
       "      <th>4</th>\n",
       "      <td>3</td>\n",
       "    </tr>\n",
       "  </tbody>\n",
       "</table>\n",
       "</div>"
      ],
      "text/plain": [
       "   Cluster\n",
       "0        1\n",
       "1        1\n",
       "2        0\n",
       "3        1\n",
       "4        3"
      ]
     },
     "execution_count": 18,
     "metadata": {},
     "output_type": "execute_result"
    }
   ],
   "source": [
    "cluster_pd=pd.DataFrame(clusters, columns=[\"Cluster\"])\n",
    "cluster_pd.head()"
   ]
  },
  {
   "cell_type": "code",
   "execution_count": 19,
   "id": "0f8fa4e2",
   "metadata": {},
   "outputs": [
    {
     "data": {
      "text/html": [
       "<div>\n",
       "<style scoped>\n",
       "    .dataframe tbody tr th:only-of-type {\n",
       "        vertical-align: middle;\n",
       "    }\n",
       "\n",
       "    .dataframe tbody tr th {\n",
       "        vertical-align: top;\n",
       "    }\n",
       "\n",
       "    .dataframe thead th {\n",
       "        text-align: right;\n",
       "    }\n",
       "</style>\n",
       "<table border=\"1\" class=\"dataframe\">\n",
       "  <thead>\n",
       "    <tr style=\"text-align: right;\">\n",
       "      <th></th>\n",
       "      <th>0</th>\n",
       "      <th>1</th>\n",
       "      <th>2</th>\n",
       "      <th>3</th>\n",
       "      <th>4</th>\n",
       "      <th>5</th>\n",
       "      <th>6</th>\n",
       "      <th>7</th>\n",
       "    </tr>\n",
       "  </thead>\n",
       "  <tbody>\n",
       "    <tr>\n",
       "      <th>0</th>\n",
       "      <td>2.76</td>\n",
       "      <td>-2.52</td>\n",
       "      <td>-5.27</td>\n",
       "      <td>-4.78</td>\n",
       "      <td>-0.84</td>\n",
       "      <td>-3.72</td>\n",
       "      <td>5.27</td>\n",
       "      <td>-8.09</td>\n",
       "    </tr>\n",
       "    <tr>\n",
       "      <th>1</th>\n",
       "      <td>6.11</td>\n",
       "      <td>4.92</td>\n",
       "      <td>7.95</td>\n",
       "      <td>6.72</td>\n",
       "      <td>5.43</td>\n",
       "      <td>-9.08</td>\n",
       "      <td>-2.38</td>\n",
       "      <td>9.16</td>\n",
       "    </tr>\n",
       "    <tr>\n",
       "      <th>2</th>\n",
       "      <td>-3.90</td>\n",
       "      <td>-6.62</td>\n",
       "      <td>2.18</td>\n",
       "      <td>-3.16</td>\n",
       "      <td>8.70</td>\n",
       "      <td>8.30</td>\n",
       "      <td>-0.05</td>\n",
       "      <td>3.93</td>\n",
       "    </tr>\n",
       "    <tr>\n",
       "      <th>3</th>\n",
       "      <td>0.29</td>\n",
       "      <td>5.15</td>\n",
       "      <td>-1.28</td>\n",
       "      <td>1.56</td>\n",
       "      <td>-8.93</td>\n",
       "      <td>-8.86</td>\n",
       "      <td>6.12</td>\n",
       "      <td>-5.43</td>\n",
       "    </tr>\n",
       "  </tbody>\n",
       "</table>\n",
       "</div>"
      ],
      "text/plain": [
       "      0     1     2     3     4     5     6     7\n",
       "0  2.76 -2.52 -5.27 -4.78 -0.84 -3.72  5.27 -8.09\n",
       "1  6.11  4.92  7.95  6.72  5.43 -9.08 -2.38  9.16\n",
       "2 -3.90 -6.62  2.18 -3.16  8.70  8.30 -0.05  3.93\n",
       "3  0.29  5.15 -1.28  1.56 -8.93 -8.86  6.12 -5.43"
      ]
     },
     "execution_count": 19,
     "metadata": {},
     "output_type": "execute_result"
    }
   ],
   "source": [
    "pd.options.display.float_format='{:,.2f}'.format\n",
    "\n",
    "centroids = pd.DataFrame(kmeans.cluster_centers_, columns=df.columns)\n",
    "centroids"
   ]
  },
  {
   "cell_type": "code",
   "execution_count": 20,
   "id": "40c994a3",
   "metadata": {},
   "outputs": [
    {
     "name": "stdout",
     "output_type": "stream",
     "text": [
      "Size of Cluster 0 =  625\n",
      "Size of Cluster 1 =  625\n",
      "Size of Cluster 2 =  625\n",
      "Size of Cluster 3 =  625\n"
     ]
    }
   ],
   "source": [
    "size = cluster_sizes(data,clusters)\n",
    "\n",
    "for c in size.keys():\n",
    "    print(\"Size of Cluster\", c, \"= \", size[c])"
   ]
  },
  {
   "cell_type": "code",
   "execution_count": 21,
   "id": "3d1ef9d8",
   "metadata": {},
   "outputs": [
    {
     "name": "stdout",
     "output_type": "stream",
     "text": [
      "0.6978398809771043\n"
     ]
    }
   ],
   "source": [
    "silhouettes = metrics.silhouette_samples(data, clusters)\n",
    "print(silhouettes.mean())"
   ]
  },
  {
   "cell_type": "code",
   "execution_count": 22,
   "id": "3d3458ab",
   "metadata": {},
   "outputs": [],
   "source": [
    "def plot_silhouettes(data, clusters, metric='euclidean'):\n",
    "    \n",
    "    from matplotlib import cm\n",
    "    from sklearn.metrics import silhouette_samples\n",
    "\n",
    "    cluster_labels = np.unique(clusters)\n",
    "    n_clusters = cluster_labels.shape[0]\n",
    "    silhouette_vals = metrics.silhouette_samples(data, clusters, metric='euclidean')\n",
    "    c_ax_lower, c_ax_upper = 0, 0\n",
    "    cticks = []\n",
    "    for i, k in enumerate(cluster_labels):\n",
    "        c_silhouette_vals = silhouette_vals[clusters == k]\n",
    "        c_silhouette_vals.sort()\n",
    "        c_ax_upper += len(c_silhouette_vals)\n",
    "        color = cm.jet(float(i) / n_clusters)\n",
    "        pl.barh(range(c_ax_lower, c_ax_upper), c_silhouette_vals, height=1.0, \n",
    "                      edgecolor='none', color=color)\n",
    "\n",
    "        cticks.append((c_ax_lower + c_ax_upper) / 2)\n",
    "        c_ax_lower += len(c_silhouette_vals)\n",
    "    \n",
    "    silhouette_avg = np.mean(silhouette_vals)\n",
    "    pl.axvline(silhouette_avg, color=\"red\", linestyle=\"--\") \n",
    "\n",
    "    pl.yticks(cticks, cluster_labels)\n",
    "    pl.ylabel('Cluster')\n",
    "    pl.xlabel('Silhouette coefficient')\n",
    "\n",
    "    pl.tight_layout()\n",
    "    #pl.savefig('images/11_04.png', dpi=300)\n",
    "    pl.show()\n",
    "    \n",
    "    return"
   ]
  },
  {
   "cell_type": "code",
   "execution_count": 23,
   "id": "70a18ef1",
   "metadata": {},
   "outputs": [
    {
     "data": {
      "image/png": "[encoded data removed]",
      "text/plain": [
       "<Figure size 432x288 with 1 Axes>"
      ]
     },
     "metadata": {
      "needs_background": "light"
     },
     "output_type": "display_data"
    }
   ],
   "source": [
    "plot_silhouettes(data, clusters)"
   ]
  },
  {
   "cell_type": "code",
   "execution_count": null,
   "id": "9324d2c5",
   "metadata": {},
   "outputs": [],
   "source": []
  },
  {
   "cell_type": "markdown",
   "id": "feef95a5",
   "metadata": {},
   "source": [
    "# 1b Classification\n",
    "\n",
    "- #### The subsequent phase involves the application of various classification algorithms to construct a classifier using the clustered data. The models in question encompass multinomial logistic regression, decision trees, decision trees with feature selection, and random forests. Given the balanced nature of the classes, the metric of choice for model evaluation is accuracy.\n",
    "- #### Notably, all models exhibited strong performance across the training, validation, and testing sets. This noteworthy consistency raises concerns regarding potential overfitting, data distribution disparities, and a potential lack of diversity, which may render the dataset unrepresentative of real-world data distributions."
   ]
  },
  {
   "cell_type": "markdown",
   "id": "fb3f3282",
   "metadata": {},
   "source": [
    "#### Get Data Ready for Classification"
   ]
  },
  {
   "cell_type": "code",
   "execution_count": 24,
   "id": "1ce56102",
   "metadata": {},
   "outputs": [],
   "source": [
    "from sklearn.model_selection import train_test_split"
   ]
  },
  {
   "cell_type": "code",
   "execution_count": 25,
   "id": "b3bb5456",
   "metadata": {},
   "outputs": [],
   "source": [
    "RANDOM_STATE = 42"
   ]
  },
  {
   "cell_type": "code",
   "execution_count": 26,
   "id": "b9cfc208",
   "metadata": {},
   "outputs": [],
   "source": [
    "X = data\n",
    "y = cluster_pd\n",
    "X_train, X_test, y_train, y_test = train_test_split(X, y, test_size=0.30, random_state=RANDOM_STATE)\n",
    "X_val, X_test, y_val, y_test = train_test_split(X_test, y_test, test_size=0.50, random_state=RANDOM_STATE)"
   ]
  },
  {
   "cell_type": "code",
   "execution_count": 27,
   "id": "d754d7ae",
   "metadata": {},
   "outputs": [
    {
     "data": {
      "text/plain": [
       "<AxesSubplot:xlabel='Cluster'>"
      ]
     },
     "execution_count": 27,
     "metadata": {},
     "output_type": "execute_result"
    },
    {
     "data": {
      "image/png": "[encoded data removed]",
      "text/plain": [
       "<Figure size 432x288 with 1 Axes>"
      ]
     },
     "metadata": {
      "needs_background": "light"
     },
     "output_type": "display_data"
    }
   ],
   "source": [
    "y.value_counts().plot(kind='bar')"
   ]
  },
  {
   "cell_type": "code",
   "execution_count": 28,
   "id": "3b554f32",
   "metadata": {},
   "outputs": [
    {
     "data": {
      "text/plain": [
       "<AxesSubplot:xlabel='Cluster'>"
      ]
     },
     "execution_count": 28,
     "metadata": {},
     "output_type": "execute_result"
    },
    {
     "data": {
      "image/png": "[encoded data removed]",
      "text/plain": [
       "<Figure size 432x288 with 1 Axes>"
      ]
     },
     "metadata": {
      "needs_background": "light"
     },
     "output_type": "display_data"
    }
   ],
   "source": [
    "y_train.value_counts().plot(kind='bar')"
   ]
  },
  {
   "cell_type": "code",
   "execution_count": 29,
   "id": "801711e2",
   "metadata": {},
   "outputs": [
    {
     "data": {
      "text/plain": [
       "<AxesSubplot:xlabel='Cluster'>"
      ]
     },
     "execution_count": 29,
     "metadata": {},
     "output_type": "execute_result"
    },
    {
     "data": {
      "image/png": "[encoded data removed]",
      "text/plain": [
       "<Figure size 432x288 with 1 Axes>"
      ]
     },
     "metadata": {
      "needs_background": "light"
     },
     "output_type": "display_data"
    }
   ],
   "source": [
    "y_val.value_counts().plot(kind='bar')"
   ]
  },
  {
   "cell_type": "code",
   "execution_count": null,
   "id": "3341fc97",
   "metadata": {},
   "outputs": [],
   "source": []
  },
  {
   "cell_type": "code",
   "execution_count": 30,
   "id": "c83ff2cf",
   "metadata": {},
   "outputs": [],
   "source": [
    "from sklearn import metrics\n",
    "import matplotlib.pyplot as plt\n",
    "from sklearn.metrics import accuracy_score, precision_score, recall_score, f1_score, confusion_matrix, ConfusionMatrixDisplay, classification_report\n",
    "def fun_print_scores_multiclass(fitted_estimator, X, y_true):\n",
    "    '''\n",
    "    Takes as input a fitted model, X, and target labels.\n",
    "    Prints scores for multiclass classification.\n",
    "    '''\n",
    "    y_pred = fitted_estimator.predict(X)\n",
    "    \n",
    "    print(\"Accuracy.....: {:.3f}\".format(metrics.accuracy_score(y_true, y_pred)))\n",
    "    print(\"Bal. Accuracy: {:.3f}\".format(metrics.balanced_accuracy_score(y_true, y_pred)))\n",
    "    print(\"Macro F1.....: {:.3f}\".format(metrics.f1_score(y_true, y_pred, average=\"macro\")))\n",
    "    print(\"Micro F1.....: {:.3f}\".format(metrics.f1_score(y_true, y_pred, average=\"micro\")))\n",
    "    \n",
    "    # Print class-wise precision, recall, and F1-score\n",
    "    class_report = metrics.classification_report(y_true, y_pred)\n",
    "    metrics.ConfusionMatrixDisplay.from_predictions(y_true, y_pred, normalize='all')"
   ]
  },
  {
   "cell_type": "code",
   "execution_count": 31,
   "id": "c5b3b6a1",
   "metadata": {},
   "outputs": [],
   "source": [
    "def plot_feature_importances(model, df):\n",
    "    n_features = df.shape[1]\n",
    "    df_colnames= df.columns\n",
    "    plt.barh(np.arange(n_features), model.feature_importances_, align='center')\n",
    "    plt.yticks(np.arange(n_features), df_colnames)\n",
    "    plt.xlabel(\"Feature importance\")\n",
    "#     plt.ylabel(\"Feature\")\n",
    "    plt.ylim(-1, n_features)"
   ]
  },
  {
   "cell_type": "code",
   "execution_count": null,
   "id": "afa24eb7",
   "metadata": {},
   "outputs": [],
   "source": []
  },
  {
   "cell_type": "code",
   "execution_count": 32,
   "id": "09c036ed",
   "metadata": {},
   "outputs": [],
   "source": [
    "from sklearn.metrics import accuracy_score, precision_score, recall_score, f1_score, confusion_matrix\n",
    "\n",
    "def apply_classifier(estimator, X_train, X_val, y_train, y_val, df_results, append_results=False, name=''):\n",
    "    # Train the classifier\n",
    "    estimator.fit(X_train, y_train)\n",
    "    \n",
    "    # Predict on the training and validation sets\n",
    "    y_pred_train = estimator.predict(X_train)\n",
    "    y_pred_val = estimator.predict(X_val)\n",
    "    \n",
    "    # Calculate classification metrics\n",
    "    accuracy_train = accuracy_score(y_train, y_pred_train).round(3)\n",
    "    accuracy_val = accuracy_score(y_val, y_pred_val).round(3)\n",
    "    \n",
    "    precision_train = precision_score(y_train, y_pred_train, average='macro').round(3)\n",
    "    precision_val = precision_score(y_val, y_pred_val, average='macro').round(3)\n",
    "    \n",
    "    recall_train = recall_score(y_train, y_pred_train, average='macro').round(3)\n",
    "    recall_val = recall_score(y_val, y_pred_val, average='macro').round(3)\n",
    "    \n",
    "    f1_train = f1_score(y_train, y_pred_train, average='macro').round(3)\n",
    "    f1_val = f1_score(y_val, y_pred_val, average='macro').round(3)\n",
    "    \n",
    "\n",
    "    \n",
    "    # Create a DataFrame to store the results\n",
    "    df_results_new = pd.DataFrame(data=[[accuracy_train, accuracy_val, precision_train, precision_val, \n",
    "                                        recall_train, recall_val, f1_train, f1_val]],\n",
    "                                  columns=['acc_train', 'acc_val', 'precision_train', 'precision_val',\n",
    "                                           'recall_train', 'recall_val', 'f1_train', 'f1_val'], index=[name])\n",
    "    \n",
    "    if append_results:\n",
    "        if df_results is None:\n",
    "            df_results = df_results_new\n",
    "        else:\n",
    "            df_results = pd.concat([df_results, df_results_new], axis=0)\n",
    "    else:  # Create the results of the new model\n",
    "        df_results = df_results_new\n",
    "    \n",
    "    return df_results\n"
   ]
  },
  {
   "cell_type": "markdown",
   "id": "64170077",
   "metadata": {},
   "source": [
    "## Multinomial  Regression "
   ]
  },
  {
   "cell_type": "code",
   "execution_count": 33,
   "id": "2f6cced7",
   "metadata": {},
   "outputs": [],
   "source": [
    "from sklearn.model_selection import train_test_split\n",
    "from sklearn.preprocessing import StandardScaler\n",
    "from sklearn.linear_model import LogisticRegression\n",
    "from sklearn.metrics import classification_report, accuracy_score"
   ]
  },
  {
   "cell_type": "code",
   "execution_count": 34,
   "id": "0c7049e8",
   "metadata": {},
   "outputs": [
    {
     "name": "stdout",
     "output_type": "stream",
     "text": [
      "Accuracy Score (Train):  1.0\n",
      "Accuracy Score (Val):  1.0\n"
     ]
    }
   ],
   "source": [
    "# Standardize the feature data\n",
    "#scaler = StandardScaler()\n",
    "#X_train = scaler.fit_transform(X_train)\n",
    "#X_val = scaler.transform(X_val)\n",
    "\n",
    "# Create and train the multinomial logistic regression model\n",
    "logistic_reg = LogisticRegression(max_iter=1000)\n",
    "logistic_reg.fit(X_train,y_train)\n",
    "\n",
    "#Accuracy Train\n",
    "pred_train = logistic_reg.predict(X_train)\n",
    "print(\"Accuracy Score (Train): \", metrics.accuracy_score(y_true = y_train, y_pred = pred_train))\n",
    "\n",
    "#Accuracy Val\n",
    "pred = logistic_reg.predict(X_val)\n",
    "print(\"Accuracy Score (Val): \", metrics.accuracy_score(y_true = y_val, y_pred = pred))"
   ]
  },
  {
   "cell_type": "code",
   "execution_count": null,
   "id": "8b5be284",
   "metadata": {},
   "outputs": [],
   "source": []
  },
  {
   "cell_type": "code",
   "execution_count": 35,
   "id": "02a53d92",
   "metadata": {},
   "outputs": [
    {
     "name": "stdout",
     "output_type": "stream",
     "text": [
      "              precision    recall  f1-score   support\n",
      "\n",
      "           0       1.00      1.00      1.00        89\n",
      "           1       1.00      1.00      1.00        90\n",
      "           2       1.00      1.00      1.00        99\n",
      "           3       1.00      1.00      1.00        97\n",
      "\n",
      "    accuracy                           1.00       375\n",
      "   macro avg       1.00      1.00      1.00       375\n",
      "weighted avg       1.00      1.00      1.00       375\n",
      "\n"
     ]
    }
   ],
   "source": [
    "print(metrics.classification_report(y_val, pred))"
   ]
  },
  {
   "cell_type": "code",
   "execution_count": 36,
   "id": "d5ad22c7",
   "metadata": {},
   "outputs": [
    {
     "name": "stdout",
     "output_type": "stream",
     "text": [
      "Accuracy.....: 1.000\n",
      "Bal. Accuracy: 1.000\n",
      "Macro F1.....: 1.000\n",
      "Micro F1.....: 1.000\n"
     ]
    },
    {
     "data": {
      "image/png": "[encoded data removed]",
      "text/plain": [
       "<Figure size 432x288 with 2 Axes>"
      ]
     },
     "metadata": {
      "needs_background": "light"
     },
     "output_type": "display_data"
    }
   ],
   "source": [
    "fun_print_scores_multiclass(logistic_reg, X_val, y_val)"
   ]
  },
  {
   "cell_type": "code",
   "execution_count": 37,
   "id": "de8da43d",
   "metadata": {},
   "outputs": [
    {
     "name": "stdout",
     "output_type": "stream",
     "text": [
      "Accuracy.....: 1.000\n",
      "Bal. Accuracy: 1.000\n",
      "Macro F1.....: 1.000\n",
      "Micro F1.....: 1.000\n"
     ]
    },
    {
     "data": {
      "image/png": "[encoded data removed]",
      "text/plain": [
       "<Figure size 432x288 with 2 Axes>"
      ]
     },
     "metadata": {
      "needs_background": "light"
     },
     "output_type": "display_data"
    }
   ],
   "source": [
    "fun_print_scores_multiclass(logistic_reg, X_test, y_test)"
   ]
  },
  {
   "cell_type": "code",
   "execution_count": 38,
   "id": "3ff6af59",
   "metadata": {},
   "outputs": [
    {
     "data": {
      "text/html": [
       "<div>\n",
       "<style scoped>\n",
       "    .dataframe tbody tr th:only-of-type {\n",
       "        vertical-align: middle;\n",
       "    }\n",
       "\n",
       "    .dataframe tbody tr th {\n",
       "        vertical-align: top;\n",
       "    }\n",
       "\n",
       "    .dataframe thead th {\n",
       "        text-align: right;\n",
       "    }\n",
       "</style>\n",
       "<table border=\"1\" class=\"dataframe\">\n",
       "  <thead>\n",
       "    <tr style=\"text-align: right;\">\n",
       "      <th></th>\n",
       "      <th>acc_train</th>\n",
       "      <th>acc_val</th>\n",
       "      <th>precision_train</th>\n",
       "      <th>precision_val</th>\n",
       "      <th>recall_train</th>\n",
       "      <th>recall_val</th>\n",
       "      <th>f1_train</th>\n",
       "      <th>f1_val</th>\n",
       "    </tr>\n",
       "  </thead>\n",
       "  <tbody>\n",
       "    <tr>\n",
       "      <th>Multinomial Regression</th>\n",
       "      <td>1.00</td>\n",
       "      <td>1.00</td>\n",
       "      <td>1.00</td>\n",
       "      <td>1.00</td>\n",
       "      <td>1.00</td>\n",
       "      <td>1.00</td>\n",
       "      <td>1.00</td>\n",
       "      <td>1.00</td>\n",
       "    </tr>\n",
       "  </tbody>\n",
       "</table>\n",
       "</div>"
      ],
      "text/plain": [
       "                        acc_train  acc_val  precision_train  precision_val   \n",
       "Multinomial Regression       1.00     1.00             1.00           1.00  \\\n",
       "\n",
       "                        recall_train  recall_val  f1_train  f1_val  \n",
       "Multinomial Regression          1.00        1.00      1.00    1.00  "
      ]
     },
     "execution_count": 38,
     "metadata": {},
     "output_type": "execute_result"
    }
   ],
   "source": [
    "df_results = None\n",
    "df_results = apply_classifier(logistic_reg, X_train, X_val, y_train, y_val, \n",
    "                             df_results, append_results=False, name=\"Multinomial Regression\")\n",
    "df_results"
   ]
  },
  {
   "cell_type": "markdown",
   "id": "75b198e5",
   "metadata": {},
   "source": [
    "## Decision Tree Model"
   ]
  },
  {
   "cell_type": "code",
   "execution_count": 39,
   "id": "4f9a4e83",
   "metadata": {},
   "outputs": [],
   "source": [
    "# Import DecisionTreeClassifier\n",
    "from sklearn.tree import DecisionTreeClassifier"
   ]
  },
  {
   "cell_type": "code",
   "execution_count": 40,
   "id": "78f10b46",
   "metadata": {},
   "outputs": [
    {
     "name": "stdout",
     "output_type": "stream",
     "text": [
      "Accuracy Score (Train):  1.0\n",
      "Accuracy Score (Val):  1.0\n"
     ]
    }
   ],
   "source": [
    "dt = DecisionTreeClassifier(random_state=RANDOM_STATE)\n",
    "\n",
    "dt.fit(X_train,y_train)\n",
    "\n",
    "#Accuracy Train\n",
    "pred_train = dt.predict(X_train)\n",
    "print(\"Accuracy Score (Train): \", metrics.accuracy_score(y_true = y_train, y_pred = pred_train))\n",
    "\n",
    "#Accuracy Val\n",
    "pred = dt.predict(X_val)\n",
    "print(\"Accuracy Score (Val): \", metrics.accuracy_score(y_true = y_val, y_pred = pred))"
   ]
  },
  {
   "cell_type": "code",
   "execution_count": 41,
   "id": "bdb3ee50",
   "metadata": {},
   "outputs": [
    {
     "name": "stdout",
     "output_type": "stream",
     "text": [
      "              precision    recall  f1-score   support\n",
      "\n",
      "           0       1.00      1.00      1.00        89\n",
      "           1       1.00      1.00      1.00        90\n",
      "           2       1.00      1.00      1.00        99\n",
      "           3       1.00      1.00      1.00        97\n",
      "\n",
      "    accuracy                           1.00       375\n",
      "   macro avg       1.00      1.00      1.00       375\n",
      "weighted avg       1.00      1.00      1.00       375\n",
      "\n"
     ]
    }
   ],
   "source": [
    "print(metrics.classification_report(y_val, pred))"
   ]
  },
  {
   "cell_type": "code",
   "execution_count": 42,
   "id": "f3dc8819",
   "metadata": {},
   "outputs": [
    {
     "name": "stdout",
     "output_type": "stream",
     "text": [
      "Accuracy.....: 1.000\n",
      "Bal. Accuracy: 1.000\n",
      "Macro F1.....: 1.000\n",
      "Micro F1.....: 1.000\n"
     ]
    },
    {
     "data": {
      "image/png": "[encoded data removed]",
      "text/plain": [
       "<Figure size 432x288 with 2 Axes>"
      ]
     },
     "metadata": {
      "needs_background": "light"
     },
     "output_type": "display_data"
    }
   ],
   "source": [
    "fun_print_scores_multiclass(dt, X_test, y_test)"
   ]
  },
  {
   "cell_type": "code",
   "execution_count": 43,
   "id": "77b16cde",
   "metadata": {},
   "outputs": [
    {
     "data": {
      "text/html": [
       "<div>\n",
       "<style scoped>\n",
       "    .dataframe tbody tr th:only-of-type {\n",
       "        vertical-align: middle;\n",
       "    }\n",
       "\n",
       "    .dataframe tbody tr th {\n",
       "        vertical-align: top;\n",
       "    }\n",
       "\n",
       "    .dataframe thead th {\n",
       "        text-align: right;\n",
       "    }\n",
       "</style>\n",
       "<table border=\"1\" class=\"dataframe\">\n",
       "  <thead>\n",
       "    <tr style=\"text-align: right;\">\n",
       "      <th></th>\n",
       "      <th>acc_train</th>\n",
       "      <th>acc_val</th>\n",
       "      <th>precision_train</th>\n",
       "      <th>precision_val</th>\n",
       "      <th>recall_train</th>\n",
       "      <th>recall_val</th>\n",
       "      <th>f1_train</th>\n",
       "      <th>f1_val</th>\n",
       "    </tr>\n",
       "  </thead>\n",
       "  <tbody>\n",
       "    <tr>\n",
       "      <th>Multinomial Regression</th>\n",
       "      <td>1.00</td>\n",
       "      <td>1.00</td>\n",
       "      <td>1.00</td>\n",
       "      <td>1.00</td>\n",
       "      <td>1.00</td>\n",
       "      <td>1.00</td>\n",
       "      <td>1.00</td>\n",
       "      <td>1.00</td>\n",
       "    </tr>\n",
       "    <tr>\n",
       "      <th>Decision Tree</th>\n",
       "      <td>1.00</td>\n",
       "      <td>1.00</td>\n",
       "      <td>1.00</td>\n",
       "      <td>1.00</td>\n",
       "      <td>1.00</td>\n",
       "      <td>1.00</td>\n",
       "      <td>1.00</td>\n",
       "      <td>1.00</td>\n",
       "    </tr>\n",
       "  </tbody>\n",
       "</table>\n",
       "</div>"
      ],
      "text/plain": [
       "                        acc_train  acc_val  precision_train  precision_val   \n",
       "Multinomial Regression       1.00     1.00             1.00           1.00  \\\n",
       "Decision Tree                1.00     1.00             1.00           1.00   \n",
       "\n",
       "                        recall_train  recall_val  f1_train  f1_val  \n",
       "Multinomial Regression          1.00        1.00      1.00    1.00  \n",
       "Decision Tree                   1.00        1.00      1.00    1.00  "
      ]
     },
     "execution_count": 43,
     "metadata": {},
     "output_type": "execute_result"
    }
   ],
   "source": [
    "df_results = apply_classifier(dt, X_train, X_val, y_train, y_val, \n",
    "                             df_results, append_results=True, name=\"Decision Tree\")\n",
    "df_results"
   ]
  },
  {
   "cell_type": "code",
   "execution_count": 44,
   "id": "3e1cbb42",
   "metadata": {
    "scrolled": true
   },
   "outputs": [
    {
     "data": {
      "image/png": "[encoded data removed]",
      "text/plain": [
       "<Figure size 360x720 with 1 Axes>"
      ]
     },
     "metadata": {
      "needs_background": "light"
     },
     "output_type": "display_data"
    }
   ],
   "source": [
    "plt.figure(figsize=[5,10])\n",
    "plot_feature_importances(dt, df=data)"
   ]
  },
  {
   "cell_type": "code",
   "execution_count": 45,
   "id": "d0e4208c",
   "metadata": {},
   "outputs": [
    {
     "data": {
      "text/plain": [
       "array([0.33051627, 0.        , 0.        , 0.00455448, 0.33221733,\n",
       "       0.        , 0.        , 0.33271192])"
      ]
     },
     "execution_count": 45,
     "metadata": {},
     "output_type": "execute_result"
    }
   ],
   "source": [
    "# Get feature importance scores\n",
    "feature_importance = dt.feature_importances_\n",
    "feature_importance"
   ]
  },
  {
   "cell_type": "code",
   "execution_count": 46,
   "id": "4a85c1a1",
   "metadata": {},
   "outputs": [
    {
     "data": {
      "text/html": [
       "<div>\n",
       "<style scoped>\n",
       "    .dataframe tbody tr th:only-of-type {\n",
       "        vertical-align: middle;\n",
       "    }\n",
       "\n",
       "    .dataframe tbody tr th {\n",
       "        vertical-align: top;\n",
       "    }\n",
       "\n",
       "    .dataframe thead th {\n",
       "        text-align: right;\n",
       "    }\n",
       "</style>\n",
       "<table border=\"1\" class=\"dataframe\">\n",
       "  <thead>\n",
       "    <tr style=\"text-align: right;\">\n",
       "      <th></th>\n",
       "      <th>columns</th>\n",
       "      <th>scores</th>\n",
       "    </tr>\n",
       "  </thead>\n",
       "  <tbody>\n",
       "    <tr>\n",
       "      <th>0</th>\n",
       "      <td>0</td>\n",
       "      <td>0.33</td>\n",
       "    </tr>\n",
       "    <tr>\n",
       "      <th>1</th>\n",
       "      <td>1</td>\n",
       "      <td>0.00</td>\n",
       "    </tr>\n",
       "    <tr>\n",
       "      <th>2</th>\n",
       "      <td>2</td>\n",
       "      <td>0.00</td>\n",
       "    </tr>\n",
       "    <tr>\n",
       "      <th>3</th>\n",
       "      <td>3</td>\n",
       "      <td>0.00</td>\n",
       "    </tr>\n",
       "    <tr>\n",
       "      <th>4</th>\n",
       "      <td>4</td>\n",
       "      <td>0.33</td>\n",
       "    </tr>\n",
       "    <tr>\n",
       "      <th>5</th>\n",
       "      <td>5</td>\n",
       "      <td>0.00</td>\n",
       "    </tr>\n",
       "    <tr>\n",
       "      <th>6</th>\n",
       "      <td>6</td>\n",
       "      <td>0.00</td>\n",
       "    </tr>\n",
       "    <tr>\n",
       "      <th>7</th>\n",
       "      <td>7</td>\n",
       "      <td>0.33</td>\n",
       "    </tr>\n",
       "  </tbody>\n",
       "</table>\n",
       "</div>"
      ],
      "text/plain": [
       "   columns  scores\n",
       "0        0    0.33\n",
       "1        1    0.00\n",
       "2        2    0.00\n",
       "3        3    0.00\n",
       "4        4    0.33\n",
       "5        5    0.00\n",
       "6        6    0.00\n",
       "7        7    0.33"
      ]
     },
     "execution_count": 46,
     "metadata": {},
     "output_type": "execute_result"
    }
   ],
   "source": [
    "df_imp = pd.DataFrame(data= {\"columns\":X.columns, \"scores\": dt.feature_importances_})\n",
    "df_imp"
   ]
  },
  {
   "cell_type": "code",
   "execution_count": 47,
   "id": "377e91dd",
   "metadata": {},
   "outputs": [
    {
     "data": {
      "text/plain": [
       "[0, 4, 7]"
      ]
     },
     "execution_count": 47,
     "metadata": {},
     "output_type": "execute_result"
    }
   ],
   "source": [
    "selected_features = df_imp.loc[df_imp.scores > 0.05, \"columns\"].tolist()\n",
    "selected_features"
   ]
  },
  {
   "cell_type": "code",
   "execution_count": 48,
   "id": "844b6113",
   "metadata": {},
   "outputs": [
    {
     "data": {
      "text/html": [
       "<style>#sk-container-id-2 {color: black;background-color: white;}#sk-container-id-2 pre{padding: 0;}#sk-container-id-2 div.sk-toggleable {background-color: white;}#sk-container-id-2 label.sk-toggleable__label {cursor: pointer;display: block;width: 100%;margin-bottom: 0;padding: 0.3em;box-sizing: border-box;text-align: center;}#sk-container-id-2 label.sk-toggleable__label-arrow:before {content: \"▸\";float: left;margin-right: 0.25em;color: #696969;}#sk-container-id-2 label.sk-toggleable__label-arrow:hover:before {color: black;}#sk-container-id-2 div.sk-estimator:hover label.sk-toggleable__label-arrow:before {color: black;}#sk-container-id-2 div.sk-toggleable__content {max-height: 0;max-width: 0;overflow: hidden;text-align: left;background-color: #f0f8ff;}#sk-container-id-2 div.sk-toggleable__content pre {margin: 0.2em;color: black;border-radius: 0.25em;background-color: #f0f8ff;}#sk-container-id-2 input.sk-toggleable__control:checked~div.sk-toggleable__content {max-height: 200px;max-width: 100%;overflow: auto;}#sk-container-id-2 input.sk-toggleable__control:checked~label.sk-toggleable__label-arrow:before {content: \"▾\";}#sk-container-id-2 div.sk-estimator input.sk-toggleable__control:checked~label.sk-toggleable__label {background-color: #d4ebff;}#sk-container-id-2 div.sk-label input.sk-toggleable__control:checked~label.sk-toggleable__label {background-color: #d4ebff;}#sk-container-id-2 input.sk-hidden--visually {border: 0;clip: rect(1px 1px 1px 1px);clip: rect(1px, 1px, 1px, 1px);height: 1px;margin: -1px;overflow: hidden;padding: 0;position: absolute;width: 1px;}#sk-container-id-2 div.sk-estimator {font-family: monospace;background-color: #f0f8ff;border: 1px dotted black;border-radius: 0.25em;box-sizing: border-box;margin-bottom: 0.5em;}#sk-container-id-2 div.sk-estimator:hover {background-color: #d4ebff;}#sk-container-id-2 div.sk-parallel-item::after {content: \"\";width: 100%;border-bottom: 1px solid gray;flex-grow: 1;}#sk-container-id-2 div.sk-label:hover label.sk-toggleable__label {background-color: #d4ebff;}#sk-container-id-2 div.sk-serial::before {content: \"\";position: absolute;border-left: 1px solid gray;box-sizing: border-box;top: 0;bottom: 0;left: 50%;z-index: 0;}#sk-container-id-2 div.sk-serial {display: flex;flex-direction: column;align-items: center;background-color: white;padding-right: 0.2em;padding-left: 0.2em;position: relative;}#sk-container-id-2 div.sk-item {position: relative;z-index: 1;}#sk-container-id-2 div.sk-parallel {display: flex;align-items: stretch;justify-content: center;background-color: white;position: relative;}#sk-container-id-2 div.sk-item::before, #sk-container-id-2 div.sk-parallel-item::before {content: \"\";position: absolute;border-left: 1px solid gray;box-sizing: border-box;top: 0;bottom: 0;left: 50%;z-index: -1;}#sk-container-id-2 div.sk-parallel-item {display: flex;flex-direction: column;z-index: 1;position: relative;background-color: white;}#sk-container-id-2 div.sk-parallel-item:first-child::after {align-self: flex-end;width: 50%;}#sk-container-id-2 div.sk-parallel-item:last-child::after {align-self: flex-start;width: 50%;}#sk-container-id-2 div.sk-parallel-item:only-child::after {width: 0;}#sk-container-id-2 div.sk-dashed-wrapped {border: 1px dashed gray;margin: 0 0.4em 0.5em 0.4em;box-sizing: border-box;padding-bottom: 0.4em;background-color: white;}#sk-container-id-2 div.sk-label label {font-family: monospace;font-weight: bold;display: inline-block;line-height: 1.2em;}#sk-container-id-2 div.sk-label-container {text-align: center;}#sk-container-id-2 div.sk-container {/* jupyter's `normalize.less` sets `[hidden] { display: none; }` but bootstrap.min.css set `[hidden] { display: none !important; }` so we also need the `!important` here to be able to override the default hidden behavior on the sphinx rendered scikit-learn.org. See: https://github.com/scikit-learn/scikit-learn/issues/21755 */display: inline-block !important;position: relative;}#sk-container-id-2 div.sk-text-repr-fallback {display: none;}</style><div id=\"sk-container-id-2\" class=\"sk-top-container\"><div class=\"sk-text-repr-fallback\"><pre>DecisionTreeClassifier(random_state=42)</pre><b>In a Jupyter environment, please rerun this cell to show the HTML representation or trust the notebook. <br />On GitHub, the HTML representation is unable to render, please try loading this page with nbviewer.org.</b></div><div class=\"sk-container\" hidden><div class=\"sk-item\"><div class=\"sk-estimator sk-toggleable\"><input class=\"sk-toggleable__control sk-hidden--visually\" id=\"sk-estimator-id-2\" type=\"checkbox\" checked><label for=\"sk-estimator-id-2\" class=\"sk-toggleable__label sk-toggleable__label-arrow\">DecisionTreeClassifier</label><div class=\"sk-toggleable__content\"><pre>DecisionTreeClassifier(random_state=42)</pre></div></div></div></div></div>"
      ],
      "text/plain": [
       "DecisionTreeClassifier(random_state=42)"
      ]
     },
     "execution_count": 48,
     "metadata": {},
     "output_type": "execute_result"
    }
   ],
   "source": [
    "dt_ = DecisionTreeClassifier(random_state=RANDOM_STATE)\n",
    "\n",
    "dt_.fit(X_train[selected_features], y_train)\n"
   ]
  },
  {
   "cell_type": "code",
   "execution_count": 49,
   "id": "0fe44d03",
   "metadata": {},
   "outputs": [
    {
     "name": "stdout",
     "output_type": "stream",
     "text": [
      "Accuracy.....: 0.997\n",
      "Bal. Accuracy: 0.997\n",
      "Macro F1.....: 0.997\n",
      "Micro F1.....: 0.997\n"
     ]
    },
    {
     "data": {
      "image/png": "[encoded data removed]",
      "text/plain": [
       "<Figure size 432x288 with 2 Axes>"
      ]
     },
     "metadata": {
      "needs_background": "light"
     },
     "output_type": "display_data"
    }
   ],
   "source": [
    "fun_print_scores_multiclass(dt_, X_val[selected_features], y_val)"
   ]
  },
  {
   "cell_type": "code",
   "execution_count": 50,
   "id": "ff4428d4",
   "metadata": {},
   "outputs": [
    {
     "data": {
      "text/html": [
       "<div>\n",
       "<style scoped>\n",
       "    .dataframe tbody tr th:only-of-type {\n",
       "        vertical-align: middle;\n",
       "    }\n",
       "\n",
       "    .dataframe tbody tr th {\n",
       "        vertical-align: top;\n",
       "    }\n",
       "\n",
       "    .dataframe thead th {\n",
       "        text-align: right;\n",
       "    }\n",
       "</style>\n",
       "<table border=\"1\" class=\"dataframe\">\n",
       "  <thead>\n",
       "    <tr style=\"text-align: right;\">\n",
       "      <th></th>\n",
       "      <th>acc_train</th>\n",
       "      <th>acc_val</th>\n",
       "      <th>precision_train</th>\n",
       "      <th>precision_val</th>\n",
       "      <th>recall_train</th>\n",
       "      <th>recall_val</th>\n",
       "      <th>f1_train</th>\n",
       "      <th>f1_val</th>\n",
       "    </tr>\n",
       "  </thead>\n",
       "  <tbody>\n",
       "    <tr>\n",
       "      <th>Multinomial Regression</th>\n",
       "      <td>1.00</td>\n",
       "      <td>1.00</td>\n",
       "      <td>1.00</td>\n",
       "      <td>1.00</td>\n",
       "      <td>1.00</td>\n",
       "      <td>1.00</td>\n",
       "      <td>1.00</td>\n",
       "      <td>1.00</td>\n",
       "    </tr>\n",
       "    <tr>\n",
       "      <th>Decision Tree</th>\n",
       "      <td>1.00</td>\n",
       "      <td>1.00</td>\n",
       "      <td>1.00</td>\n",
       "      <td>1.00</td>\n",
       "      <td>1.00</td>\n",
       "      <td>1.00</td>\n",
       "      <td>1.00</td>\n",
       "      <td>1.00</td>\n",
       "    </tr>\n",
       "    <tr>\n",
       "      <th>Decision Tree with Important Features</th>\n",
       "      <td>1.00</td>\n",
       "      <td>1.00</td>\n",
       "      <td>1.00</td>\n",
       "      <td>1.00</td>\n",
       "      <td>1.00</td>\n",
       "      <td>1.00</td>\n",
       "      <td>1.00</td>\n",
       "      <td>1.00</td>\n",
       "    </tr>\n",
       "  </tbody>\n",
       "</table>\n",
       "</div>"
      ],
      "text/plain": [
       "                                       acc_train  acc_val  precision_train   \n",
       "Multinomial Regression                      1.00     1.00             1.00  \\\n",
       "Decision Tree                               1.00     1.00             1.00   \n",
       "Decision Tree with Important Features       1.00     1.00             1.00   \n",
       "\n",
       "                                       precision_val  recall_train   \n",
       "Multinomial Regression                          1.00          1.00  \\\n",
       "Decision Tree                                   1.00          1.00   \n",
       "Decision Tree with Important Features           1.00          1.00   \n",
       "\n",
       "                                       recall_val  f1_train  f1_val  \n",
       "Multinomial Regression                       1.00      1.00    1.00  \n",
       "Decision Tree                                1.00      1.00    1.00  \n",
       "Decision Tree with Important Features        1.00      1.00    1.00  "
      ]
     },
     "execution_count": 50,
     "metadata": {},
     "output_type": "execute_result"
    }
   ],
   "source": [
    "df_results = apply_classifier(dt_, X_train, X_val, y_train, y_val, \n",
    "                             df_results, append_results=True, name=\"Decision Tree with Important Features\")\n",
    "df_results"
   ]
  },
  {
   "cell_type": "markdown",
   "id": "fabd128a",
   "metadata": {},
   "source": [
    "- ### Random Forest "
   ]
  },
  {
   "cell_type": "code",
   "execution_count": 51,
   "id": "9f350577",
   "metadata": {},
   "outputs": [],
   "source": [
    "from sklearn.ensemble import RandomForestClassifier"
   ]
  },
  {
   "cell_type": "code",
   "execution_count": 52,
   "id": "a45d5366",
   "metadata": {},
   "outputs": [
    {
     "data": {
      "text/html": [
       "<style>#sk-container-id-3 {color: black;background-color: white;}#sk-container-id-3 pre{padding: 0;}#sk-container-id-3 div.sk-toggleable {background-color: white;}#sk-container-id-3 label.sk-toggleable__label {cursor: pointer;display: block;width: 100%;margin-bottom: 0;padding: 0.3em;box-sizing: border-box;text-align: center;}#sk-container-id-3 label.sk-toggleable__label-arrow:before {content: \"▸\";float: left;margin-right: 0.25em;color: #696969;}#sk-container-id-3 label.sk-toggleable__label-arrow:hover:before {color: black;}#sk-container-id-3 div.sk-estimator:hover label.sk-toggleable__label-arrow:before {color: black;}#sk-container-id-3 div.sk-toggleable__content {max-height: 0;max-width: 0;overflow: hidden;text-align: left;background-color: #f0f8ff;}#sk-container-id-3 div.sk-toggleable__content pre {margin: 0.2em;color: black;border-radius: 0.25em;background-color: #f0f8ff;}#sk-container-id-3 input.sk-toggleable__control:checked~div.sk-toggleable__content {max-height: 200px;max-width: 100%;overflow: auto;}#sk-container-id-3 input.sk-toggleable__control:checked~label.sk-toggleable__label-arrow:before {content: \"▾\";}#sk-container-id-3 div.sk-estimator input.sk-toggleable__control:checked~label.sk-toggleable__label {background-color: #d4ebff;}#sk-container-id-3 div.sk-label input.sk-toggleable__control:checked~label.sk-toggleable__label {background-color: #d4ebff;}#sk-container-id-3 input.sk-hidden--visually {border: 0;clip: rect(1px 1px 1px 1px);clip: rect(1px, 1px, 1px, 1px);height: 1px;margin: -1px;overflow: hidden;padding: 0;position: absolute;width: 1px;}#sk-container-id-3 div.sk-estimator {font-family: monospace;background-color: #f0f8ff;border: 1px dotted black;border-radius: 0.25em;box-sizing: border-box;margin-bottom: 0.5em;}#sk-container-id-3 div.sk-estimator:hover {background-color: #d4ebff;}#sk-container-id-3 div.sk-parallel-item::after {content: \"\";width: 100%;border-bottom: 1px solid gray;flex-grow: 1;}#sk-container-id-3 div.sk-label:hover label.sk-toggleable__label {background-color: #d4ebff;}#sk-container-id-3 div.sk-serial::before {content: \"\";position: absolute;border-left: 1px solid gray;box-sizing: border-box;top: 0;bottom: 0;left: 50%;z-index: 0;}#sk-container-id-3 div.sk-serial {display: flex;flex-direction: column;align-items: center;background-color: white;padding-right: 0.2em;padding-left: 0.2em;position: relative;}#sk-container-id-3 div.sk-item {position: relative;z-index: 1;}#sk-container-id-3 div.sk-parallel {display: flex;align-items: stretch;justify-content: center;background-color: white;position: relative;}#sk-container-id-3 div.sk-item::before, #sk-container-id-3 div.sk-parallel-item::before {content: \"\";position: absolute;border-left: 1px solid gray;box-sizing: border-box;top: 0;bottom: 0;left: 50%;z-index: -1;}#sk-container-id-3 div.sk-parallel-item {display: flex;flex-direction: column;z-index: 1;position: relative;background-color: white;}#sk-container-id-3 div.sk-parallel-item:first-child::after {align-self: flex-end;width: 50%;}#sk-container-id-3 div.sk-parallel-item:last-child::after {align-self: flex-start;width: 50%;}#sk-container-id-3 div.sk-parallel-item:only-child::after {width: 0;}#sk-container-id-3 div.sk-dashed-wrapped {border: 1px dashed gray;margin: 0 0.4em 0.5em 0.4em;box-sizing: border-box;padding-bottom: 0.4em;background-color: white;}#sk-container-id-3 div.sk-label label {font-family: monospace;font-weight: bold;display: inline-block;line-height: 1.2em;}#sk-container-id-3 div.sk-label-container {text-align: center;}#sk-container-id-3 div.sk-container {/* jupyter's `normalize.less` sets `[hidden] { display: none; }` but bootstrap.min.css set `[hidden] { display: none !important; }` so we also need the `!important` here to be able to override the default hidden behavior on the sphinx rendered scikit-learn.org. See: https://github.com/scikit-learn/scikit-learn/issues/21755 */display: inline-block !important;position: relative;}#sk-container-id-3 div.sk-text-repr-fallback {display: none;}</style><div id=\"sk-container-id-3\" class=\"sk-top-container\"><div class=\"sk-text-repr-fallback\"><pre>RandomForestClassifier(random_state=42)</pre><b>In a Jupyter environment, please rerun this cell to show the HTML representation or trust the notebook. <br />On GitHub, the HTML representation is unable to render, please try loading this page with nbviewer.org.</b></div><div class=\"sk-container\" hidden><div class=\"sk-item\"><div class=\"sk-estimator sk-toggleable\"><input class=\"sk-toggleable__control sk-hidden--visually\" id=\"sk-estimator-id-3\" type=\"checkbox\" checked><label for=\"sk-estimator-id-3\" class=\"sk-toggleable__label sk-toggleable__label-arrow\">RandomForestClassifier</label><div class=\"sk-toggleable__content\"><pre>RandomForestClassifier(random_state=42)</pre></div></div></div></div></div>"
      ],
      "text/plain": [
       "RandomForestClassifier(random_state=42)"
      ]
     },
     "execution_count": 52,
     "metadata": {},
     "output_type": "execute_result"
    }
   ],
   "source": [
    "rf = RandomForestClassifier(random_state=RANDOM_STATE)\n",
    "rf.fit(X_train, y_train)"
   ]
  },
  {
   "cell_type": "code",
   "execution_count": 53,
   "id": "9afc36a4",
   "metadata": {},
   "outputs": [
    {
     "name": "stdout",
     "output_type": "stream",
     "text": [
      "Accuracy.....: 1.000\n",
      "Bal. Accuracy: 1.000\n",
      "Macro F1.....: 1.000\n",
      "Micro F1.....: 1.000\n"
     ]
    },
    {
     "data": {
      "image/png": "[encoded data removed]",
      "text/plain": [
       "<Figure size 432x288 with 2 Axes>"
      ]
     },
     "metadata": {
      "needs_background": "light"
     },
     "output_type": "display_data"
    }
   ],
   "source": [
    "fun_print_scores_multiclass(rf, X_train, y_train)"
   ]
  },
  {
   "cell_type": "code",
   "execution_count": 54,
   "id": "8f9ac8d1",
   "metadata": {},
   "outputs": [
    {
     "name": "stdout",
     "output_type": "stream",
     "text": [
      "Accuracy.....: 1.000\n",
      "Bal. Accuracy: 1.000\n",
      "Macro F1.....: 1.000\n",
      "Micro F1.....: 1.000\n"
     ]
    },
    {
     "data": {
      "image/png": "[encoded data removed]",
      "text/plain": [
       "<Figure size 432x288 with 2 Axes>"
      ]
     },
     "metadata": {
      "needs_background": "light"
     },
     "output_type": "display_data"
    }
   ],
   "source": [
    "fun_print_scores_multiclass(rf, X_val, y_val)"
   ]
  },
  {
   "cell_type": "code",
   "execution_count": 55,
   "id": "db2c2cba",
   "metadata": {},
   "outputs": [
    {
     "data": {
      "image/png": "[encoded data removed]",
      "text/plain": [
       "<Figure size 360x720 with 1 Axes>"
      ]
     },
     "metadata": {
      "needs_background": "light"
     },
     "output_type": "display_data"
    }
   ],
   "source": [
    "plt.figure(figsize=[5,10])\n",
    "plot_feature_importances(rf, df=X_train)"
   ]
  },
  {
   "cell_type": "code",
   "execution_count": 56,
   "id": "1e6add17",
   "metadata": {},
   "outputs": [
    {
     "data": {
      "text/html": [
       "<div>\n",
       "<style scoped>\n",
       "    .dataframe tbody tr th:only-of-type {\n",
       "        vertical-align: middle;\n",
       "    }\n",
       "\n",
       "    .dataframe tbody tr th {\n",
       "        vertical-align: top;\n",
       "    }\n",
       "\n",
       "    .dataframe thead th {\n",
       "        text-align: right;\n",
       "    }\n",
       "</style>\n",
       "<table border=\"1\" class=\"dataframe\">\n",
       "  <thead>\n",
       "    <tr style=\"text-align: right;\">\n",
       "      <th></th>\n",
       "      <th>acc_train</th>\n",
       "      <th>acc_val</th>\n",
       "      <th>precision_train</th>\n",
       "      <th>precision_val</th>\n",
       "      <th>recall_train</th>\n",
       "      <th>recall_val</th>\n",
       "      <th>f1_train</th>\n",
       "      <th>f1_val</th>\n",
       "    </tr>\n",
       "  </thead>\n",
       "  <tbody>\n",
       "    <tr>\n",
       "      <th>Multinomial Regression</th>\n",
       "      <td>1.00</td>\n",
       "      <td>1.00</td>\n",
       "      <td>1.00</td>\n",
       "      <td>1.00</td>\n",
       "      <td>1.00</td>\n",
       "      <td>1.00</td>\n",
       "      <td>1.00</td>\n",
       "      <td>1.00</td>\n",
       "    </tr>\n",
       "    <tr>\n",
       "      <th>Decision Tree</th>\n",
       "      <td>1.00</td>\n",
       "      <td>1.00</td>\n",
       "      <td>1.00</td>\n",
       "      <td>1.00</td>\n",
       "      <td>1.00</td>\n",
       "      <td>1.00</td>\n",
       "      <td>1.00</td>\n",
       "      <td>1.00</td>\n",
       "    </tr>\n",
       "    <tr>\n",
       "      <th>Decision Tree with Important Features</th>\n",
       "      <td>1.00</td>\n",
       "      <td>1.00</td>\n",
       "      <td>1.00</td>\n",
       "      <td>1.00</td>\n",
       "      <td>1.00</td>\n",
       "      <td>1.00</td>\n",
       "      <td>1.00</td>\n",
       "      <td>1.00</td>\n",
       "    </tr>\n",
       "    <tr>\n",
       "      <th>Random Forest</th>\n",
       "      <td>1.00</td>\n",
       "      <td>1.00</td>\n",
       "      <td>1.00</td>\n",
       "      <td>1.00</td>\n",
       "      <td>1.00</td>\n",
       "      <td>1.00</td>\n",
       "      <td>1.00</td>\n",
       "      <td>1.00</td>\n",
       "    </tr>\n",
       "  </tbody>\n",
       "</table>\n",
       "</div>"
      ],
      "text/plain": [
       "                                       acc_train  acc_val  precision_train   \n",
       "Multinomial Regression                      1.00     1.00             1.00  \\\n",
       "Decision Tree                               1.00     1.00             1.00   \n",
       "Decision Tree with Important Features       1.00     1.00             1.00   \n",
       "Random Forest                               1.00     1.00             1.00   \n",
       "\n",
       "                                       precision_val  recall_train   \n",
       "Multinomial Regression                          1.00          1.00  \\\n",
       "Decision Tree                                   1.00          1.00   \n",
       "Decision Tree with Important Features           1.00          1.00   \n",
       "Random Forest                                   1.00          1.00   \n",
       "\n",
       "                                       recall_val  f1_train  f1_val  \n",
       "Multinomial Regression                       1.00      1.00    1.00  \n",
       "Decision Tree                                1.00      1.00    1.00  \n",
       "Decision Tree with Important Features        1.00      1.00    1.00  \n",
       "Random Forest                                1.00      1.00    1.00  "
      ]
     },
     "execution_count": 56,
     "metadata": {},
     "output_type": "execute_result"
    }
   ],
   "source": [
    "df_results = apply_classifier(rf, X_train, X_val, y_train, y_val, \n",
    "                             df_results, append_results=True, name=\"Random Forest\")\n",
    "df_results"
   ]
  },
  {
   "cell_type": "code",
   "execution_count": null,
   "id": "2af51533",
   "metadata": {},
   "outputs": [],
   "source": []
  },
  {
   "cell_type": "code",
   "execution_count": 57,
   "id": "205b3eaa",
   "metadata": {
    "scrolled": true
   },
   "outputs": [
    {
     "name": "stdout",
     "output_type": "stream",
     "text": [
      "Accuracy.....: 1.000\n",
      "Bal. Accuracy: 1.000\n",
      "Macro F1.....: 1.000\n",
      "Micro F1.....: 1.000\n",
      "\n",
      "\n",
      "Accuracy.....: 1.000\n",
      "Bal. Accuracy: 1.000\n",
      "Macro F1.....: 1.000\n",
      "Micro F1.....: 1.000\n",
      "\n",
      "\n",
      "Accuracy.....: 1.000\n",
      "Bal. Accuracy: 1.000\n",
      "Macro F1.....: 1.000\n",
      "Micro F1.....: 1.000\n",
      "\n",
      "\n",
      "Accuracy.....: 1.000\n",
      "Bal. Accuracy: 1.000\n",
      "Macro F1.....: 1.000\n",
      "Micro F1.....: 1.000\n",
      "\n",
      "\n"
     ]
    },
    {
     "data": {
      "image/png": "[encoded data removed]",
      "text/plain": [
       "<Figure size 432x288 with 2 Axes>"
      ]
     },
     "metadata": {
      "needs_background": "light"
     },
     "output_type": "display_data"
    },
    {
     "data": {
      "image/png": "[encoded data removed]",
      "text/plain": [
       "<Figure size 432x288 with 2 Axes>"
      ]
     },
     "metadata": {
      "needs_background": "light"
     },
     "output_type": "display_data"
    },
    {
     "data": {
      "image/png": "[encoded data removed]",
      "text/plain": [
       "<Figure size 432x288 with 2 Axes>"
      ]
     },
     "metadata": {
      "needs_background": "light"
     },
     "output_type": "display_data"
    },
    {
     "data": {
      "image/png": "[encoded data removed]",
      "text/plain": [
       "<Figure size 432x288 with 2 Axes>"
      ]
     },
     "metadata": {
      "needs_background": "light"
     },
     "output_type": "display_data"
    }
   ],
   "source": [
    "models=[logistic_reg,dt,dt_,rf]\n",
    "for model in models:\n",
    "    fun_print_scores_multiclass(model, X_test, y_test)\n",
    "    print(\"\\n\")"
   ]
  },
  {
   "cell_type": "markdown",
   "id": "3f1fb949",
   "metadata": {},
   "source": [
    " # 2 Prediction\n",
    "\n",
    "- #### In this segment, a three-part dataset comprising training, validation, and test subsets was employed to construct, fine-tune, and evaluate an Ordinary Least Squares (OLS) regression model. The tuning process, which involved optimizing the polynomial degree, was carried out on the validation set, with Root Mean Square Error (RMSE) serving as the primary evaluation metric. The ultimate choice for the polynomial degree that was incorporated into the final model is 7.\n"
   ]
  },
  {
   "cell_type": "code",
   "execution_count": 58,
   "id": "95692a23",
   "metadata": {},
   "outputs": [
    {
     "data": {
      "image/png": "[encoded data removed]",
      "text/plain": [
       "<Figure size 576x432 with 1 Axes>"
      ]
     },
     "metadata": {
      "needs_background": "light"
     },
     "output_type": "display_data"
    }
   ],
   "source": [
    "import pandas as pd\n",
    "import numpy as np\n",
    "from sklearn.model_selection import train_test_split\n",
    "from sklearn.preprocessing import PolynomialFeatures\n",
    "from sklearn.linear_model import LinearRegression\n",
    "from sklearn.metrics import mean_squared_error, r2_score\n",
    "from sklearn import metrics\n",
    "import matplotlib.pyplot as plt\n",
    "\n",
    "# Load the data from CSV files\n",
    "xvalsSine_data = pd.read_csv('xvalsSine.csv')\n",
    "cleanSine_data = pd.read_csv('cleanSine.csv')\n",
    "\n",
    "# Extract features (x-values) and labels (sine(x))\n",
    "X = xvalsSine_data.values\n",
    "y = cleanSine_data.values\n",
    "\n",
    "# Perform a random train/validation/test split (70% training, 15% validation, 15% testing)\n",
    "X_train, X_temp, y_train, y_temp = train_test_split(X, y, test_size=0.3, random_state=42)\n",
    "X_val, X_test, y_val, y_test = train_test_split(X_temp, y_temp, test_size=0.5, random_state=42)\n",
    "\n",
    "# Initialize variables to store the best degree and its corresponding RMSE\n",
    "best_degree = 2\n",
    "best_rmse = float('inf')\n",
    "\n",
    "# Initialize lists to store RMSE values for different degrees\n",
    "rmse_values = []\n",
    "\n",
    "# Loop through polynomial degrees from 2 to 10\n",
    "for degree in range(2, 11):\n",
    "    # Create polynomial features\n",
    "    poly = PolynomialFeatures(degree=degree)\n",
    "    X_train_poly = poly.fit_transform(X_train)\n",
    "    X_val_poly = poly.transform(X_val)\n",
    "    \n",
    "    # Train the OLS regression model\n",
    "    ols_reg = LinearRegression()\n",
    "    ols_reg.fit(X_train_poly, y_train)\n",
    "    \n",
    "    #make prediction on train set\n",
    "    y_train_pred= ols_reg.predict(X_train_poly)\n",
    "    \n",
    "    # Make predictions on the validation set\n",
    "    y_val_pred = ols_reg.predict(X_val_poly)\n",
    "    \n",
    "\n",
    "    # Calculate RMSE on the validation set\n",
    "    rmse = np.sqrt(mean_squared_error(y_val, y_val_pred))\n",
    "    rmse_values.append(rmse)\n",
    "    \n",
    "    # Update the best degree if a lower RMSE is found\n",
    "    if rmse < best_rmse:\n",
    "        best_degree = degree\n",
    "        best_rmse = rmse\n",
    "\n",
    "# Plot RMSE values for different degrees\n",
    "plt.figure(figsize=(8, 6))\n",
    "plt.plot(range(2, 11), rmse_values, marker='o')\n",
    "plt.xlabel('Polynomial Degree')\n",
    "plt.ylabel('RMSE on Validation Set')\n",
    "plt.title('RMSE vs. Polynomial Degree')\n",
    "plt.grid()\n",
    "plt.show()\n",
    "\n",
    "#print(\"Best Polynomial Degree (based on Validation RMSE):\", best_degree)\n",
    "#print(\"Best Validation RMSE:\", best_rmse)\n"
   ]
  },
  {
   "cell_type": "code",
   "execution_count": null,
   "id": "faf82e4f",
   "metadata": {},
   "outputs": [],
   "source": []
  },
  {
   "cell_type": "code",
   "execution_count": 59,
   "id": "1dead1ed",
   "metadata": {},
   "outputs": [
    {
     "name": "stdout",
     "output_type": "stream",
     "text": [
      "Test RMSE for Best Degree: 0.00014241404429043367\n"
     ]
    }
   ],
   "source": [
    "# Train the final model with the best degree on the combined training and validation data\n",
    "poly = PolynomialFeatures(degree=7)\n",
    "X_train_poly = poly.fit_transform(X_train)\n",
    "ols_reg = LinearRegression()\n",
    "ols_reg.fit(X_train_poly, y_train)\n",
    "\n",
    "\n",
    "\n",
    "# Evaluate the final model on the test set\n",
    "X_test_poly = poly.transform(X_test)\n",
    "y_test_pred = ols_reg.predict(X_test_poly)\n",
    "test_rmse = np.sqrt(mean_squared_error(y_test, y_test_pred))\n",
    "\n",
    "\n",
    "print(\"Test RMSE for Best Degree:\", test_rmse)"
   ]
  },
  {
   "cell_type": "code",
   "execution_count": 60,
   "id": "b8ca8553",
   "metadata": {},
   "outputs": [],
   "source": [
    "def error_rmse(true, pred):\n",
    "    '''\n",
    "    Returns the RMSE based on given true and predicted arrays.\n",
    "    Both inputs are assumed to be numoy arrays\n",
    "    '''\n",
    "    from sklearn import metrics\n",
    "    return np.sqrt(metrics.mean_squared_error(true, pred))"
   ]
  },
  {
   "cell_type": "code",
   "execution_count": 61,
   "id": "cc3d73ed",
   "metadata": {},
   "outputs": [],
   "source": [
    "def print_regression_results(y_train, pred_train, y_val, pred_val):\n",
    "    print('Train R2: {}'.format(metrics.r2_score(y_train, pred_train)))\n",
    "    print('Validation R2: {}'.format(metrics.r2_score(y_val, pred_val)))\n",
    "    print('Train error: {}'.format(error_rmse(y_train, pred_train)))\n",
    "    print('Validation error: {}'.format(error_rmse(y_val, pred_val)))"
   ]
  },
  {
   "cell_type": "code",
   "execution_count": 62,
   "id": "8cbf1e8e",
   "metadata": {},
   "outputs": [
    {
     "name": "stdout",
     "output_type": "stream",
     "text": [
      "Train R2: 0.9999999999736716\n",
      "Validation R2: 0.9999999999673919\n",
      "Train error: 3.6441798871348656e-06\n",
      "Validation error: 3.867268493870357e-06\n"
     ]
    }
   ],
   "source": [
    "print_regression_results(y_train, y_train_pred,y_val, y_val_pred)"
   ]
  },
  {
   "cell_type": "code",
   "execution_count": 63,
   "id": "be04622e",
   "metadata": {},
   "outputs": [
    {
     "data": {
      "image/png": "[encoded data removed]",
      "text/plain": [
       "<Figure size 720x432 with 1 Axes>"
      ]
     },
     "metadata": {
      "needs_background": "light"
     },
     "output_type": "display_data"
    }
   ],
   "source": [
    "# Plot the original sine function and the regression results\n",
    "x_range = np.linspace(-np.pi / 2, np.pi / 2, 100)\n",
    "y_range = np.sin(x_range)\n",
    "y_pred_range = ols_reg.predict(poly.transform(x_range.reshape(-1, 1)))\n",
    "\n",
    "plt.figure(figsize=(10, 6))\n",
    "plt.plot(x_range, y_range, label='True Sine(x)')\n",
    "plt.plot(x_range, y_pred_range, label='OLS Regression', linestyle='--', color='red')\n",
    "plt.scatter(X_test, y_test, label='Test Data', marker='o', color='green')\n",
    "plt.xlabel('x')\n",
    "plt.ylabel('sine(x)')\n",
    "plt.title('OLS Regression for Sine Function')\n",
    "plt.legend()\n",
    "plt.grid()\n",
    "plt.show()"
   ]
  },
  {
   "cell_type": "code",
   "execution_count": null,
   "id": "216dd953",
   "metadata": {},
   "outputs": [],
   "source": []
  }
 ],
 "metadata": {
  "kernelspec": {
   "display_name": "Python 3",
   "language": "python",
   "name": "python3"
  },
  "language_info": {
   "codemirror_mode": {
    "name": "ipython",
    "version": 3
   },
   "file_extension": ".py",
   "mimetype": "text/x-python",
   "name": "python",
   "nbconvert_exporter": "python",
   "pygments_lexer": "ipython3",
   "version": "3.8.8"
  }
 },
 "nbformat": 4,
 "nbformat_minor": 5
}
